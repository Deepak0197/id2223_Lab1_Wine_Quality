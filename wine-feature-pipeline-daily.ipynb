{
 "cells": [
  {
   "cell_type": "code",
   "execution_count": 19,
   "id": "29a23347",
   "metadata": {},
   "outputs": [],
   "source": [
    "import os\n",
    "import modal\n",
    "    \n",
    "BACKFILL=False\n",
    "LOCAL=False\n",
    "\n",
    "if LOCAL == False:\n",
    "   stub = modal.Stub()\n",
    "   image = modal.Image.debian_slim().pip_install([\"hopsworks\",\"joblib\",\"seaborn\",\"sklearn\",\"dataframe-image\"]) \n",
    "\n",
    "   @stub.function(image=image, schedule=modal.Period(days=1), secret=modal.Secret.from_name(\"HOPSWORKS_API_KEY\"))\n",
    "   def f():\n",
    "       g()\n",
    "\n",
    "def generate_wine_sample(wine_type, fixed_acidity_max, fixed_acidity_min, volatile_acidity_max, volatile_acidity_min,\n",
    "                         citric_acid_max, citric_acid_min, residual_sugar_max, residual_sugar_min,\n",
    "                         chlorides_max, chlorides_min, free_sulfur_dioxide_max, free_sulfur_dioxide_min,\n",
    "                         total_sulfur_dioxide_max, total_sulfur_dioxide_min, density_max, density_min,\n",
    "                         pH_max, pH_min, sulphates_max, sulphates_min, alcohol_max, alcohol_min, quality):\n",
    "    \"\"\"\n",
    "    Returns a single row as a DataFrame representing a random sample for the wine dataset\n",
    "    \"\"\"\n",
    "    import pandas as pd\n",
    "    import random\n",
    "\n",
    "    df = pd.DataFrame({\n",
    "        \"type\": [wine_type],\n",
    "        \"fixed_acidity\": [random.uniform(fixed_acidity_max, fixed_acidity_min)],\n",
    "        \"volatile_acidity\": [random.uniform(volatile_acidity_max, volatile_acidity_min)],\n",
    "        \"citric_acid\": [random.uniform(citric_acid_max, citric_acid_min)],\n",
    "        \"residual_sugar\": [random.uniform(residual_sugar_max, residual_sugar_min)],\n",
    "        \"chlorides\": [random.uniform(chlorides_max, chlorides_min)],\n",
    "        \"free_sulfur_dioxide\": [random.uniform(free_sulfur_dioxide_max, free_sulfur_dioxide_min)],\n",
    "        \"total_sulfur_dioxide\": [random.uniform(total_sulfur_dioxide_max, total_sulfur_dioxide_min)],\n",
    "        \"density\": [random.uniform(density_max, density_min)],\n",
    "        \"ph\": [random.uniform(pH_max, pH_min)],\n",
    "        \"sulphates\": [random.uniform(sulphates_max, sulphates_min)],\n",
    "        \"alcohol\": [random.uniform(alcohol_max, alcohol_min)],\n",
    "        \"quality\": [quality]\n",
    "    })\n",
    "\n",
    "    return df\n"
   ]
  },
  {
   "cell_type": "code",
   "execution_count": 20,
   "id": "022fabac",
   "metadata": {},
   "outputs": [
    {
     "name": "stdout",
     "output_type": "stream",
     "text": [
      "    type  fixed_acidity  volatile_acidity  citric_acid  residual_sugar  \\\n",
      "0  white       5.200916          0.155314     0.221836       26.966693   \n",
      "\n",
      "   chlorides  free_sulfur_dioxide  total_sulfur_dioxide   density        ph  \\\n",
      "0   0.067319            14.799497             80.519442  0.993273  2.338498   \n",
      "\n",
      "   sulphates    alcohol  quality  \n",
      "0   0.397652  11.700956        6  \n"
     ]
    }
   ],
   "source": [
    "# Example usage:\n",
    "wine_sample = generate_wine_sample(\"white\", 7.0, 5.0, 0.5, 0.1, 0.6, 0.2, 30.0, 5.0, 0.1, 0.01,\n",
    "                                   50.0, 10.0, 200.0, 30.0, 1.002, 0.990,\n",
    "                                   4.0, 2.0, 1.0, 0.2, 15.0, 8.0, 6)\n",
    "\n",
    "print(wine_sample)"
   ]
  },
  {
   "cell_type": "code",
   "execution_count": 1,
   "id": "ebcb9b83",
   "metadata": {},
   "outputs": [
    {
     "ename": "IndentationError",
     "evalue": "unexpected indent (3350280044.py, line 26)",
     "output_type": "error",
     "traceback": [
      "\u001b[0;36m  Cell \u001b[0;32mIn[1], line 26\u001b[0;36m\u001b[0m\n\u001b[0;31m    \"type\": [\"white\"],\u001b[0m\n\u001b[0m    ^\u001b[0m\n\u001b[0;31mIndentationError\u001b[0m\u001b[0;31m:\u001b[0m unexpected indent\n"
     ]
    }
   ],
   "source": [
    "def get_random_wine_sample():\n",
    "    \"\"\"\n",
    "    Returns a DataFrame containing one random wine sample\n",
    "    \"\"\"\n",
    "    import pandas as pd\n",
    "    import random\n",
    "\n",
    "    #white_wine_df = generate_wine_sample(\"white\", 7.5, 5.5, 0.6, 0.2, 0.8, 0.2, 30.0, 1.0, 0.1, 0.03, 60.0, 5.0, 300.0, 50.0, 1.01, 0.99, 3.5, 2.8, 1.0, 0.3, 14.0, 8.0, 9, 3)\n",
    "    \n",
    "    white_wine_df = pd.DataFrame({\n",
    "        \"type\": [\"white\"],\n",
    "        \"fixed_acidity\": [random.uniform(5.5, 7.5)],\n",
    "        \"volatile_acidity\": [random.uniform(0.2,0.6)],\n",
    "        \"citric_acid\": [random.uniform(0.2,0.8)],\n",
    "        \"residual_sugar\": [random.uniform(1,30)],\n",
    "        \"chlorides\": [random.uniform(0.03,0.1)],\n",
    "        \"free_sulfur_dioxide\": [random.uniform(5,60)],\n",
    "        \"total_sulfur_dioxide\": [random.uniform(50,300)],\n",
    "        \"density\": [random.uniform(0.99,1.01)],\n",
    "        \"ph\": [random.uniform(2.8,3.5)],\n",
    "        \"sulphates\": [random.uniform(0.3,1)],\n",
    "        \"alcohol\": [random.uniform(8,14)],\n",
    "        \"quality\": [random.randint(3, 9)]  \n",
    "    })\n",
    "\n",
    "    #red_wine_df = generate_wine_sample(\"red\", 8, 4.5, 0.8, 0.3, 0.8, 0.0, 15.0, 0.0, 0.5, 0.05, 50.0, 10.0, 200.0, 30.0, 1.01, 0.99, 3.8, 3.0, 2.0, 0.5, 14.0, 8.0, 8, 3)\n",
    "    red_wine_df = pd.DataFrame({\n",
    "        \"type\": [\"red\"],\n",
    "        \"fixed_acidity\": [random.uniform(4.5, 8)],\n",
    "        \"volatile_acidity\": [random.uniform(0.3,0.8)],\n",
    "        \"citric_acid\": [random.uniform(0,0.8)],\n",
    "        \"residual_sugar\": [random.uniform(0,15)],\n",
    "        \"chlorides\": [random.uniform(0.05,0.5)],\n",
    "        \"free_sulfur_dioxide\": [random.uniform(10,50)],\n",
    "        \"total_sulfur_dioxide\": [random.uniform(30,200)],\n",
    "        \"density\": [random.uniform(0.99,1.01)],\n",
    "        \"ph\": [random.uniform(3,3.8)],\n",
    "        \"sulphates\": [random.uniform(0.5,2)],\n",
    "        \"alcohol\": [random.uniform(8,14)],\n",
    "        \"quality\": [random.randint(3, 8)]  \n",
    "    })\n",
    "\n",
    "\n",
    "    # randomly pick one of these 2 and return it\n",
    "    pick_random = random.choice([\"white\", \"red\"])\n",
    "    if pick_random == \"white\":\n",
    "        wine_df = white_wine_df\n",
    "        print(\"White wine sample added\")\n",
    "    else:\n",
    "        wine_df = red_wine_df\n",
    "        print(\"Red wine sample added\")\n",
    "\n",
    "    return wine_df"
   ]
  },
  {
   "cell_type": "code",
   "execution_count": 22,
   "id": "dcdfb6bc",
   "metadata": {},
   "outputs": [],
   "source": [
    "def g():\n",
    "    import hopsworks\n",
    "    import pandas as pd\n",
    "\n",
    "    project = hopsworks.login()\n",
    "    fs = project.get_feature_store()\n",
    "\n",
    "    if BACKFILL == True:\n",
    "        wine_df = pd.read_csv(\"winequalityN.csv\")\n",
    "    else:\n",
    "        wine_df = get_random_wine_sample()\n",
    "\n",
    "    wine_fg = fs.get_or_create_feature_group(\n",
    "        name=\"wine\",\n",
    "        version=1,\n",
    "        primary_key=[\"type\", \"fixed_acidity\", \"volatile_acidity\", \"citric_acid\", \"residual_sugar\", \"chlorides\", \"free_sulfur_dioxide\", \"total_sulfur_dioxide\", \"density\", \"pH\", \"sulphates\", \"alcohol\"],\n",
    "        description=\"Wine quality dataset\")\n",
    "    wine_fg.insert(wine_df, write_options={\"wait_for_job\" : False})"
   ]
  },
  {
   "cell_type": "code",
   "execution_count": 23,
   "id": "9f70ae8c",
   "metadata": {},
   "outputs": [
    {
     "data": {
      "text/html": [
       "<pre style=\"white-space:pre;overflow-x:auto;line-height:normal;font-family:Menlo,'DejaVu Sans Mono',consolas,'Courier New',monospace\">DeprecationWarning: The `ipykernel.comm.Comm` class has been deprecated. Please use the `comm` module instead.For \n",
       "creating comms, use the function `from comm import create_comm`.\n",
       "</pre>\n"
      ],
      "text/plain": [
       "DeprecationWarning: The `ipykernel.comm.Comm` class has been deprecated. Please use the `comm` module instead.For \n",
       "creating comms, use the function `from comm import create_comm`.\n"
      ]
     },
     "metadata": {},
     "output_type": "display_data"
    },
    {
     "data": {
      "application/vnd.jupyter.widget-view+json": {
       "model_id": "",
       "version_major": 2,
       "version_minor": 0
      },
      "text/plain": [
       "Output()"
      ]
     },
     "metadata": {},
     "output_type": "display_data"
    },
    {
     "data": {
      "text/html": [
       "<pre style=\"white-space:pre;overflow-x:auto;line-height:normal;font-family:Menlo,'DejaVu Sans Mono',consolas,'Courier New',monospace\"><span style=\"color: #008000; text-decoration-color: #008000\">✓</span> Initialized. <span style=\"color: #b2b2b2; text-decoration-color: #b2b2b2\">View app at </span><span style=\"color: #b2b2b2; text-decoration-color: #b2b2b2; text-decoration: underline\">https://modal.com/apps/ap-nB8aKSNNoqWNpecRIznSHp</span>\n",
       "</pre>\n"
      ],
      "text/plain": [
       "\u001b[32m✓\u001b[0m Initialized. \u001b[38;5;249mView app at \u001b[0m\u001b[4;38;5;249mhttps://modal.com/apps/ap-nB8aKSNNoqWNpecRIznSHp\u001b[0m\n"
      ]
     },
     "metadata": {},
     "output_type": "display_data"
    },
    {
     "data": {
      "text/html": [
       "<pre style=\"white-space:pre;overflow-x:auto;line-height:normal;font-family:Menlo,'DejaVu Sans Mono',consolas,'Courier New',monospace\"></pre>\n"
      ],
      "text/plain": []
     },
     "metadata": {},
     "output_type": "display_data"
    },
    {
     "data": {
      "application/vnd.jupyter.widget-view+json": {
       "model_id": "",
       "version_major": 2,
       "version_minor": 0
      },
      "text/plain": [
       "Output()"
      ]
     },
     "metadata": {},
     "output_type": "display_data"
    },
    {
     "data": {
      "text/html": [
       "<pre style=\"white-space:pre;overflow-x:auto;line-height:normal;font-family:Menlo,'DejaVu Sans Mono',consolas,'Courier New',monospace\"></pre>\n"
      ],
      "text/plain": []
     },
     "metadata": {},
     "output_type": "display_data"
    },
    {
     "data": {
      "text/html": [
       "<pre style=\"white-space:pre;overflow-x:auto;line-height:normal;font-family:Menlo,'DejaVu Sans Mono',consolas,'Courier New',monospace\"><span style=\"color: #008000; text-decoration-color: #008000\">✓</span> Created objects.\n",
       "<span style=\"color: #808080; text-decoration-color: #808080\">└── </span><span style=\"color: #008000; text-decoration-color: #008000\">🔨</span> Created f.\n",
       "</pre>\n"
      ],
      "text/plain": [
       "\u001b[32m✓\u001b[0m Created objects.\n",
       "\u001b[38;5;244m└── \u001b[0m\u001b[32m🔨\u001b[0m Created f.\n"
      ]
     },
     "metadata": {},
     "output_type": "display_data"
    },
    {
     "data": {
      "application/vnd.jupyter.widget-view+json": {
       "model_id": "",
       "version_major": 2,
       "version_minor": 0
      },
      "text/plain": [
       "Output()"
      ]
     },
     "metadata": {},
     "output_type": "display_data"
    },
    {
     "data": {
      "text/html": [
       "<pre style=\"white-space:pre;overflow-x:auto;line-height:normal;font-family:Menlo,'DejaVu Sans Mono',consolas,'Courier New',monospace\"><span style=\"color: #000080; text-decoration-color: #000080\"></span></pre>\n"
      ],
      "text/plain": []
     },
     "metadata": {},
     "output_type": "display_data"
    },
    {
     "data": {
      "text/html": [
       "<pre style=\"white-space:pre;overflow-x:auto;line-height:normal;font-family:Menlo,'DejaVu Sans Mono',consolas,'Courier New',monospace\"><span style=\"color: #000080; text-decoration-color: #000080\">Connected. Call `.close()` to terminate connection gracefully.\n",
       "</span></pre>\n"
      ],
      "text/plain": [
       "\u001b[34mConnected. Call `.close()` to terminate connection gracefully.\n",
       "\u001b[0m"
      ]
     },
     "metadata": {},
     "output_type": "display_data"
    },
    {
     "data": {
      "text/html": [
       "<pre style=\"white-space:pre;overflow-x:auto;line-height:normal;font-family:Menlo,'DejaVu Sans Mono',consolas,'Courier New',monospace\"><span style=\"color: #000080; text-decoration-color: #000080\">\n",
       "</span></pre>\n"
      ],
      "text/plain": [
       "\u001b[34m\n",
       "\u001b[0m"
      ]
     },
     "metadata": {},
     "output_type": "display_data"
    },
    {
     "data": {
      "text/html": [
       "<pre style=\"white-space:pre;overflow-x:auto;line-height:normal;font-family:Menlo,'DejaVu Sans Mono',consolas,'Courier New',monospace\"><span style=\"color: #000080; text-decoration-color: #000080\">Logged in to project, explore it here https://c.app.hopsworks.ai:443/p/210071\n",
       "</span></pre>\n"
      ],
      "text/plain": [
       "\u001b[34mLogged in to project, explore it here https://c.app.hopsworks.ai:443/p/210071\n",
       "\u001b[0m"
      ]
     },
     "metadata": {},
     "output_type": "display_data"
    },
    {
     "data": {
      "text/html": [
       "<pre style=\"white-space:pre;overflow-x:auto;line-height:normal;font-family:Menlo,'DejaVu Sans Mono',consolas,'Courier New',monospace\"><span style=\"color: #000080; text-decoration-color: #000080\"></span></pre>\n"
      ],
      "text/plain": []
     },
     "metadata": {},
     "output_type": "display_data"
    },
    {
     "data": {
      "text/html": [
       "<pre style=\"white-space:pre;overflow-x:auto;line-height:normal;font-family:Menlo,'DejaVu Sans Mono',consolas,'Courier New',monospace\"><span style=\"color: #000080; text-decoration-color: #000080\">Connected. Call `.close()` to terminate connection gracefully.\n",
       "</span></pre>\n"
      ],
      "text/plain": [
       "\u001b[34mConnected. Call `.close()` to terminate connection gracefully.\n",
       "\u001b[0m"
      ]
     },
     "metadata": {},
     "output_type": "display_data"
    },
    {
     "data": {
      "text/html": [
       "<pre style=\"white-space:pre;overflow-x:auto;line-height:normal;font-family:Menlo,'DejaVu Sans Mono',consolas,'Courier New',monospace\"><span style=\"color: #000080; text-decoration-color: #000080\"></span></pre>\n"
      ],
      "text/plain": []
     },
     "metadata": {},
     "output_type": "display_data"
    },
    {
     "data": {
      "text/html": [
       "<pre style=\"white-space:pre;overflow-x:auto;line-height:normal;font-family:Menlo,'DejaVu Sans Mono',consolas,'Courier New',monospace\"><span style=\"color: #000080; text-decoration-color: #000080\">Red wine sample added\n",
       "</span></pre>\n"
      ],
      "text/plain": [
       "\u001b[34mRed wine sample added\n",
       "\u001b[0m"
      ]
     },
     "metadata": {},
     "output_type": "display_data"
    },
    {
     "data": {
      "text/html": [
       "<pre style=\"white-space:pre;overflow-x:auto;line-height:normal;font-family:Menlo,'DejaVu Sans Mono',consolas,'Courier New',monospace\"><span style=\"color: #000080; text-decoration-color: #000080\">Feature Group created successfully, explore it at \n",
       "</span></pre>\n"
      ],
      "text/plain": [
       "\u001b[34mFeature Group created successfully, explore it at \n",
       "\u001b[0m"
      ]
     },
     "metadata": {},
     "output_type": "display_data"
    },
    {
     "data": {
      "text/html": [
       "<pre style=\"white-space:pre;overflow-x:auto;line-height:normal;font-family:Menlo,'DejaVu Sans Mono',consolas,'Courier New',monospace\"><span style=\"color: #000080; text-decoration-color: #000080\">https://c.app.hopsworks.ai:443/p/210071/fs/209990/fg/223592\n",
       "</span></pre>\n"
      ],
      "text/plain": [
       "\u001b[34mhttps://c.app.hopsworks.ai:443/p/210071/fs/209990/fg/223592\n",
       "\u001b[0m"
      ]
     },
     "metadata": {},
     "output_type": "display_data"
    },
    {
     "data": {
      "text/html": [
       "<pre style=\"white-space:pre;overflow-x:auto;line-height:normal;font-family:Menlo,'DejaVu Sans Mono',consolas,'Courier New',monospace\"><span style=\"color: #800000; text-decoration-color: #800000\">\n",
       "</span></pre>\n"
      ],
      "text/plain": [
       "\u001b[31m\n",
       "\u001b[0m"
      ]
     },
     "metadata": {},
     "output_type": "display_data"
    },
    {
     "data": {
      "text/html": [
       "<pre style=\"white-space:pre;overflow-x:auto;line-height:normal;font-family:Menlo,'DejaVu Sans Mono',consolas,'Courier New',monospace\"><span style=\"color: #800000; text-decoration-color: #800000\">\u001b[1AUploading Dataframe: 0.00% |          | Rows 0/1 | Elapsed Time: 00:00 | Remaining Time: ?\n",
       "</span></pre>\n"
      ],
      "text/plain": [
       "\u001b[31m\u001b[1AUploading Dataframe: 0.00% |          | Rows 0/1 | Elapsed Time: 00:00 | Remaining Time: ?\n",
       "\u001b[0m"
      ]
     },
     "metadata": {},
     "output_type": "display_data"
    },
    {
     "data": {
      "text/html": [
       "<pre style=\"white-space:pre;overflow-x:auto;line-height:normal;font-family:Menlo,'DejaVu Sans Mono',consolas,'Courier New',monospace\"><span style=\"color: #800000; text-decoration-color: #800000\">\u001b[1AUploading Dataframe: 100.00% |██████████| Rows 1/1 | Elapsed Time: 00:01 | Remaining Time: 00:00\n",
       "</span></pre>\n"
      ],
      "text/plain": [
       "\u001b[31m\u001b[1AUploading Dataframe: 100.00% |██████████| Rows 1/1 | Elapsed Time: 00:01 | Remaining Time: 00:00\n",
       "\u001b[0m"
      ]
     },
     "metadata": {},
     "output_type": "display_data"
    },
    {
     "data": {
      "text/html": [
       "<pre style=\"white-space:pre;overflow-x:auto;line-height:normal;font-family:Menlo,'DejaVu Sans Mono',consolas,'Courier New',monospace\"><span style=\"color: #800000; text-decoration-color: #800000\">\u001b[1AUploading Dataframe: 100.00% |██████████| Rows 1/1 | Elapsed Time: 00:01 | Remaining Time: 00:00\n",
       "</span></pre>\n"
      ],
      "text/plain": [
       "\u001b[31m\u001b[1AUploading Dataframe: 100.00% |██████████| Rows 1/1 | Elapsed Time: 00:01 | Remaining Time: 00:00\n",
       "\u001b[0m"
      ]
     },
     "metadata": {},
     "output_type": "display_data"
    },
    {
     "data": {
      "text/html": [
       "<pre style=\"white-space:pre;overflow-x:auto;line-height:normal;font-family:Menlo,'DejaVu Sans Mono',consolas,'Courier New',monospace\"><span style=\"color: #000080; text-decoration-color: #000080\"></span></pre>\n"
      ],
      "text/plain": []
     },
     "metadata": {},
     "output_type": "display_data"
    },
    {
     "data": {
      "text/html": [
       "<pre style=\"white-space:pre;overflow-x:auto;line-height:normal;font-family:Menlo,'DejaVu Sans Mono',consolas,'Courier New',monospace\"><span style=\"color: #000080; text-decoration-color: #000080\">Launching job: wine_modal_1_offline_fg_materialization\n",
       "</span></pre>\n"
      ],
      "text/plain": [
       "\u001b[34mLaunching job: wine_modal_1_offline_fg_materialization\n",
       "\u001b[0m"
      ]
     },
     "metadata": {},
     "output_type": "display_data"
    },
    {
     "data": {
      "text/html": [
       "<pre style=\"white-space:pre;overflow-x:auto;line-height:normal;font-family:Menlo,'DejaVu Sans Mono',consolas,'Courier New',monospace\"><span style=\"color: #000080; text-decoration-color: #000080\">Job started successfully, you can follow the progress at \n",
       "https://c.app.hopsworks.ai/p/210071/jobs/named/wine_modal_1_offline_fg_materialization/executions\n",
       "</span></pre>\n"
      ],
      "text/plain": [
       "\u001b[34mJob started successfully, you can follow the progress at \n",
       "https://c.app.hopsworks.ai/p/210071/jobs/named/wine_modal_1_offline_fg_materialization/executions\n",
       "\u001b[0m"
      ]
     },
     "metadata": {},
     "output_type": "display_data"
    },
    {
     "data": {
      "text/html": [
       "<pre style=\"white-space:pre;overflow-x:auto;line-height:normal;font-family:Menlo,'DejaVu Sans Mono',consolas,'Courier New',monospace\"></pre>\n"
      ],
      "text/plain": []
     },
     "metadata": {},
     "output_type": "display_data"
    },
    {
     "data": {
      "text/html": [
       "<pre style=\"white-space:pre;overflow-x:auto;line-height:normal;font-family:Menlo,'DejaVu Sans Mono',consolas,'Courier New',monospace\"><span style=\"color: #008000; text-decoration-color: #008000\">✓</span> App completed.\n",
       "</pre>\n"
      ],
      "text/plain": [
       "\u001b[32m✓\u001b[0m App completed.\n"
      ]
     },
     "metadata": {},
     "output_type": "display_data"
    }
   ],
   "source": [
    "if __name__ == \"__main__\":\n",
    "    if LOCAL == True :\n",
    "        g.local()\n",
    "    else:\n",
    "        with stub.run():\n",
    "            f.remote()"
   ]
  },
  {
   "cell_type": "code",
   "execution_count": null,
   "id": "8b1db3cd",
   "metadata": {},
   "outputs": [],
   "source": []
  }
 ],
 "metadata": {
  "kernelspec": {
   "display_name": "Python 3 (ipykernel)",
   "language": "python",
   "name": "python3"
  },
  "language_info": {
   "codemirror_mode": {
    "name": "ipython",
    "version": 3
   },
   "file_extension": ".py",
   "mimetype": "text/x-python",
   "name": "python",
   "nbconvert_exporter": "python",
   "pygments_lexer": "ipython3",
   "version": "3.9.18"
  }
 },
 "nbformat": 4,
 "nbformat_minor": 5
}
